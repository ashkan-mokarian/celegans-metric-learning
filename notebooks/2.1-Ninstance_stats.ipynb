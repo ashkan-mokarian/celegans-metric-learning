{
 "cells": [
  {
   "cell_type": "code",
   "execution_count": 1,
   "metadata": {},
   "outputs": [],
   "source": [
    "# Some initializations\n",
    "import numpy as np\n",
    "import torch\n",
    "import torchvision\n",
    "from skimage import color\n",
    "import random\n",
    "import matplotlib.pyplot as plt\n",
    "import sys\n",
    "import os\n",
    "import pprint\n",
    "sys.path.append(os.path.abspath('../src/'))\n",
    "\n",
    "import lib.utils as utils\n",
    "from lib.data.worms_dataset import WormsDataset\n",
    "from scripts.settings import Settings, DEFAULT_PATH\n",
    "\n",
    "%matplotlib inline\n",
    "# for auto-reloading external modules\n",
    "# see http://stackoverflow.com/questions/1907993/autoreload-of-modules-in-ipython\n",
    "%load_ext autoreload\n",
    "%autoreload 2"
   ]
  },
  {
   "cell_type": "code",
   "execution_count": 6,
   "metadata": {
    "scrolled": true
   },
   "outputs": [
    {
     "name": "stdout",
     "output_type": "stream",
     "text": [
      "\n",
      "[NAME]: default\n",
      "[PATH]: \t\n",
      "\t[EXPERIMENT_ROOT]: /home/ashkan/workspace/deployed/worms_nuclei_metric_learning-deployed/experiments\n",
      "\t[WORMS_DATASET]: /home/ashkan/workspace/deployed/worms_nuclei_metric_learning-deployed/data/processed/worms_dataset\n",
      "\t[CPM_DATASET]: /home/ashkan/workspace/deployed/worms_nuclei_metric_learning-deployed/data/processed/cpm_dataset.pkl\n",
      "[GENERAL]: \t\n",
      "\t[LOGGING]: 20\n",
      "\t[OVERWRITE]: False\n",
      "\t[DEBUG]: False\n",
      "\t[SEED]: 1234\n",
      "[MODEL]: \t\n",
      "\t[MODEL_NAME]: unet\n",
      "\t[MODEL_PARAMS]: [4, 64, 4, 6]\n",
      "\t[INIT_MODEL_PATH]: None\n",
      "\t[INIT_MODEL_BEST]: False\n",
      "\t[INIT_MODEL_LAST]: False\n",
      "[TRAIN]: \t\n",
      "\t[N_CLUSTER]: 558\n",
      "\t[N_STEP]: 100000\n",
      "\t[MODEL_CKPT_EVERY_N_STEP]: 20000\n",
      "\t[RUNNING_LOSS_INTERVAL]: 1000\n",
      "\t[BURN_IN_STEP]: 50000\n",
      "\t[LEARNING_RATE]: 0.001\n",
      "\t[WEIGHT_DECAY]: 0\n",
      "\t[LR_DROP_FACTOR]: 0.1\n",
      "\t[LR_DROP_PATIENCE]: 20\n",
      "\t[AUGMENTATION]: \t\t\n",
      "\t\t[ELASTIC]: \t\t\t\n",
      "\t\t\t[CONTROL_POINT_SPACING]: [10, 10, 10]\n",
      "\t\t\t[JITTER_SIGMA]: [1, 1, 1]\n",
      "\t\t\t[ROTATION_INTERVAL]: [-5, 5]\n",
      "\t\t\t[SUBSAMPLE]: 1\n",
      "\t\t\t[P]: 0.8\n",
      "[DATA]: \t\n",
      "\t[N_WORKER]: 10\n",
      "\t[PATCH_SIZE]: [32, 32, 32]\n",
      "\t[N_CONSISTENT_WORMS]: 2\n",
      "\t[USE_LEFTOUT_LABELS]: True\n",
      "\t[USE_COORD]: True\n",
      "\t[NORMALIZE]: True\n",
      "\n"
     ]
    }
   ],
   "source": [
    "sett = Settings('train_default.toml')\n",
    "if not sett.PATH.EXPERIMENT_ROOT:\n",
    "    sett.PATH.EXPERIMENT_ROOT = DEFAULT_PATH.EXPERIMENTS\n",
    "if not sett.PATH.WORMS_DATASET:\n",
    "    sett.PATH.WORMS_DATASET = DEFAULT_PATH.WORMS_DATASET\n",
    "if not sett.PATH.CPM_DATASET:\n",
    "    sett.PATH.CPM_DATASET = DEFAULT_PATH.CPM_DATASET\n",
    "\n",
    "print(sett)\n",
    "\n",
    "N_SAMPLES = 2000"
   ]
  },
  {
   "cell_type": "markdown",
   "metadata": {},
   "source": [
    "### n_consistent=2, patch=32"
   ]
  },
  {
   "cell_type": "code",
   "execution_count": 7,
   "metadata": {},
   "outputs": [
    {
     "name": "stdout",
     "output_type": "stream",
     "text": [
      "max:74, average:10.9945\n"
     ]
    },
    {
     "data": {
      "image/png": "[encoded data removed]",
      "text/plain": [
       "<Figure size 432x288 with 1 Axes>"
      ]
     },
     "metadata": {
      "needs_background": "light"
     },
     "output_type": "display_data"
    }
   ],
   "source": [
    "train_dataset = WormsDataset(\n",
    "    sett.PATH.WORMS_DATASET,\n",
    "    sett.PATH.CPM_DATASET,\n",
    "    patch_size=sett.DATA.PATCH_SIZE,\n",
    "    n_consistent_worms=sett.DATA.N_CONSISTENT_WORMS,\n",
    "    use_leftout_labels=sett.DATA.USE_LEFTOUT_LABELS,\n",
    "    use_coord=sett.DATA.USE_COORD,\n",
    "    normalize=sett.DATA.NORMALIZE,\n",
    "    augmentation=sett.TRAIN.AUGMENTATION,\n",
    "    debug=True)\n",
    "\n",
    "# train_loader = iter(train_dataset)\n",
    "train_loader = iter(torch.utils.data.DataLoader(train_dataset, batch_size=None, shuffle=False, num_workers=20))\n",
    "\n",
    "n_instance = []\n",
    "for _ in range(N_SAMPLES):\n",
    "    sample = next(train_loader)\n",
    "    n_instance.append(sample['n_cluster'].numpy())\n",
    "    \n",
    "plt.hist(n_instance, bins=30)\n",
    "print(f'max:{np.max(n_instance)}, average:{np.mean(n_instance)}')"
   ]
  },
  {
   "cell_type": "markdown",
   "metadata": {},
   "source": [
    "### n_consistent=2, patch=64"
   ]
  },
  {
   "cell_type": "code",
   "execution_count": 8,
   "metadata": {},
   "outputs": [
    {
     "name": "stdout",
     "output_type": "stream",
     "text": [
      "max:166, average:35.54\n"
     ]
    },
    {
     "data": {
      "image/png": "[encoded data removed]",
      "text/plain": [
       "<Figure size 432x288 with 1 Axes>"
      ]
     },
     "metadata": {
      "needs_background": "light"
     },
     "output_type": "display_data"
    }
   ],
   "source": [
    "train_dataset = WormsDataset(\n",
    "    sett.PATH.WORMS_DATASET,\n",
    "    sett.PATH.CPM_DATASET,\n",
    "    patch_size=[64, 64, 64],\n",
    "    n_consistent_worms=sett.DATA.N_CONSISTENT_WORMS,\n",
    "    use_leftout_labels=sett.DATA.USE_LEFTOUT_LABELS,\n",
    "    use_coord=sett.DATA.USE_COORD,\n",
    "    normalize=sett.DATA.NORMALIZE,\n",
    "    augmentation=sett.TRAIN.AUGMENTATION,\n",
    "    debug=True)\n",
    "\n",
    "train_loader = iter(torch.utils.data.DataLoader(train_dataset, batch_size=None, shuffle=False, num_workers=20))\n",
    "\n",
    "n_instance = []\n",
    "for _ in range(N_SAMPLES):\n",
    "    sample = next(train_loader)\n",
    "    n_instance.append(sample['n_cluster'].numpy())\n",
    "    \n",
    "plt.hist(n_instance, bins=30)\n",
    "print(f'max:{np.max(n_instance)}, average:{np.mean(n_instance)}')"
   ]
  },
  {
   "cell_type": "markdown",
   "metadata": {},
   "source": [
    "### n_consistent=2, patch=128"
   ]
  },
  {
   "cell_type": "code",
   "execution_count": 9,
   "metadata": {},
   "outputs": [
    {
     "name": "stdout",
     "output_type": "stream",
     "text": [
      "max:287, average:94.3025\n"
     ]
    },
    {
     "data": {
      "image/png": "[encoded data removed]",
      "text/plain": [
       "<Figure size 432x288 with 1 Axes>"
      ]
     },
     "metadata": {
      "needs_background": "light"
     },
     "output_type": "display_data"
    }
   ],
   "source": [
    "train_dataset = WormsDataset(\n",
    "    sett.PATH.WORMS_DATASET,\n",
    "    sett.PATH.CPM_DATASET,\n",
    "    patch_size=[128, 128, 128],\n",
    "    n_consistent_worms=sett.DATA.N_CONSISTENT_WORMS,\n",
    "    use_leftout_labels=sett.DATA.USE_LEFTOUT_LABELS,\n",
    "    use_coord=sett.DATA.USE_COORD,\n",
    "    normalize=sett.DATA.NORMALIZE,\n",
    "    augmentation=sett.TRAIN.AUGMENTATION,\n",
    "    debug=True)\n",
    "\n",
    "train_loader = iter(torch.utils.data.DataLoader(train_dataset, batch_size=None, shuffle=False, num_workers=5))\n",
    "\n",
    "n_instance = []\n",
    "for _ in range(N_SAMPLES):\n",
    "    sample = next(train_loader)\n",
    "    n_instance.append(sample['n_cluster'].numpy())\n",
    "    \n",
    "plt.hist(n_instance, bins=30)\n",
    "print(f'max:{np.max(n_instance)}, average:{np.mean(n_instance)}')"
   ]
  },
  {
   "cell_type": "markdown",
   "metadata": {},
   "source": [
    "### n_consistent=1, patch=32"
   ]
  },
  {
   "cell_type": "code",
   "execution_count": null,
   "metadata": {},
   "outputs": [],
   "source": [
    "sett.DATA.N_CONSISTENT_WORMS = 1\n",
    "train_dataset = WormsDataset(\n",
    "    sett.PATH.WORMS_DATASET,\n",
    "    sett.PATH.CPM_DATASET,\n",
    "    patch_size=[32, 32, 32],\n",
    "    n_consistent_worms=sett.DATA.N_CONSISTENT_WORMS,\n",
    "    use_leftout_labels=sett.DATA.USE_LEFTOUT_LABELS,\n",
    "    use_coord=sett.DATA.USE_COORD,\n",
    "    normalize=sett.DATA.NORMALIZE,\n",
    "    augmentation=sett.TRAIN.AUGMENTATION,\n",
    "    debug=True)\n",
    "\n",
    "train_loader = iter(torch.utils.data.DataLoader(train_dataset, batch_size=None, shuffle=False, num_workers=30))\n",
    "\n",
    "\n",
    "n_instance = []\n",
    "for _ in range(N_SAMPLES):\n",
    "    sample = next(train_loader)\n",
    "    n_instance.append(sample['n_cluster'].numpy())\n",
    "    \n",
    "plt.hist(n_instance, bins=30)\n",
    "print(f'max:{np.max(n_instance)}, average:{np.mean(n_instance)}')"
   ]
  },
  {
   "cell_type": "markdown",
   "metadata": {},
   "source": [
    "### n_consistent=1, patch=64"
   ]
  },
  {
   "cell_type": "code",
   "execution_count": null,
   "metadata": {},
   "outputs": [],
   "source": [
    "train_dataset = WormsDataset(\n",
    "    sett.PATH.WORMS_DATASET,\n",
    "    sett.PATH.CPM_DATASET,\n",
    "    patch_size=[64, 64, 64],\n",
    "    n_consistent_worms=sett.DATA.N_CONSISTENT_WORMS,\n",
    "    use_leftout_labels=sett.DATA.USE_LEFTOUT_LABELS,\n",
    "    use_coord=sett.DATA.USE_COORD,\n",
    "    normalize=sett.DATA.NORMALIZE,\n",
    "    augmentation=sett.TRAIN.AUGMENTATION,\n",
    "    debug=True)\n",
    "\n",
    "train_loader = iter(torch.utils.data.DataLoader(train_dataset, batch_size=None, shuffle=False, num_workers=30))\n",
    "\n",
    "n_instance = []\n",
    "for _ in range(N_SAMPLES):\n",
    "    sample = next(train_loader)\n",
    "    n_instance.append(sample['n_cluster'].numpy())\n",
    "    \n",
    "plt.hist(n_instance, bins=30)\n",
    "print(f'max:{np.max(n_instance)}, average:{np.mean(n_instance)}')"
   ]
  },
  {
   "cell_type": "markdown",
   "metadata": {},
   "source": [
    "### n_consistent=1, patch=128"
   ]
  },
  {
   "cell_type": "code",
   "execution_count": null,
   "metadata": {},
   "outputs": [],
   "source": [
    "train_dataset = WormsDataset(\n",
    "    sett.PATH.WORMS_DATASET,\n",
    "    sett.PATH.CPM_DATASET,\n",
    "    patch_size=[128, 128, 128],\n",
    "    n_consistent_worms=sett.DATA.N_CONSISTENT_WORMS,\n",
    "    use_leftout_labels=sett.DATA.USE_LEFTOUT_LABELS,\n",
    "    use_coord=sett.DATA.USE_COORD,\n",
    "    normalize=sett.DATA.NORMALIZE,\n",
    "    augmentation=sett.TRAIN.AUGMENTATION,\n",
    "    debug=True)\n",
    "\n",
    "train_loader = iter(torch.utils.data.DataLoader(train_dataset, batch_size=None, shuffle=False, num_workers=10))\n",
    "\n",
    "n_instance = []\n",
    "for _ in range(N_SAMPLES):\n",
    "    sample = next(train_loader)\n",
    "    n_instance.append(sample['n_cluster'].numpy())\n",
    "    \n",
    "plt.hist(n_instance, bins=30)\n",
    "print(f'max:{np.max(n_instance)}, average:{np.mean(n_instance)}')"
   ]
  }
 ],
 "metadata": {
  "kernelspec": {
   "display_name": "metric",
   "language": "python",
   "name": "metric_learning"
  },
  "language_info": {
   "codemirror_mode": {
    "name": "ipython",
    "version": 3
   },
   "file_extension": ".py",
   "mimetype": "text/x-python",
   "name": "python",
   "nbconvert_exporter": "python",
   "pygments_lexer": "ipython3",
   "version": "3.6.9"
  }
 },
 "nbformat": 4,
 "nbformat_minor": 4
}
